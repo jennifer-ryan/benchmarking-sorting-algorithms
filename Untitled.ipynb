{
 "cells": [
  {
   "cell_type": "markdown",
   "metadata": {
    "toc": true
   },
   "source": [
    "<h1>Table of Contents<span class=\"tocSkip\"></span></h1>\n",
    "<div class=\"toc\"><ul class=\"toc-item\"></ul></div>"
   ]
  },
  {
   "cell_type": "code",
   "execution_count": 1,
   "metadata": {},
   "outputs": [],
   "source": [
    "import time\n",
    "import random\n",
    "import numpy as np\n",
    "import pandas as pd\n",
    "from statistics import mean"
   ]
  },
  {
   "cell_type": "code",
   "execution_count": 2,
   "metadata": {},
   "outputs": [],
   "source": [
    "random.seed(100)"
   ]
  },
  {
   "cell_type": "code",
   "execution_count": 3,
   "metadata": {},
   "outputs": [],
   "source": [
    "# https://runestone.academy/runestone/books/published/pythonds/SortSearch/TheSelectionSort.html\n",
    "\n",
    "def selectionSort(alist):\n",
    "    for fillslot in range(len(alist)-1,0,-1):\n",
    "        positionOfMax=0 \n",
    "        for location in range(1,fillslot+1):\n",
    "            if alist[location]>alist[positionOfMax]:\n",
    "                positionOfMax = location\n",
    "\n",
    "        alist[fillslot], alist[positionOfMax] = alist[positionOfMax], alist[fillslot]"
   ]
  },
  {
   "cell_type": "code",
   "execution_count": 4,
   "metadata": {},
   "outputs": [],
   "source": [
    "def insertionSort(alist):\n",
    "    for index in range(1,len(alist)):\n",
    "    \n",
    "        currentvalue = alist[index]\n",
    "        position = index\n",
    "\n",
    "        while position>0 and alist[position-1]>currentvalue:\n",
    "            alist[position]=alist[position-1]\n",
    "            position = position-1\n",
    "\n",
    "        alist[position]=currentvalue"
   ]
  },
  {
   "cell_type": "code",
   "execution_count": 5,
   "metadata": {},
   "outputs": [],
   "source": [
    "# Adapted from https://runestone.academy/runestone/books/published/pythonds/SortSearch/TheMergeSort.html?highlight=merge%20sort\n",
    "# and https://www.geeksforgeeks.org/merge-sort/\n",
    "\n",
    "def mergeSort(alist):\n",
    "    # Base case - if list is 1 or less, it is sorted by default\n",
    "    if len(alist) > 1:\n",
    "\n",
    "        # Get midpoint of the list with integer division\n",
    "        midpoint = len(alist) // 2\n",
    "    \n",
    "        # Splitting the list in half using the midpoint\n",
    "        left_list = alist[:midpoint]\n",
    "        right_list = alist[midpoint:]\n",
    "\n",
    "        # Recursively split the left_list and right_list until the base case is reached\n",
    "        mergeSort(left_list)\n",
    "        mergeSort(right_list)\n",
    "        # At the end of the recursion, all lists will contain a maximum of 1 element and thus be sorted.\n",
    "\n",
    "        # Code below merges the smaller sorted lists into larger sorted lists\n",
    "        l = 0 # Index value for left_list\n",
    "        r = 0 # Index value for right_list\n",
    "        a = 0 # Index value for alist\n",
    "\n",
    "        # Compare left and right lists, merging smaller sorted lists to become larger sorted lists, eventually placing sorted elements back into alist\n",
    "        while l < len(left_list) and r < len(right_list):\n",
    "            if left_list[l] <= right_list[r]: # keeps algorithm stable, maintaining order of alist \n",
    "                alist[a] = left_list[l]\n",
    "                l += 1\n",
    "            else:\n",
    "                alist[a] = right_list[r]\n",
    "                r += 1\n",
    "            a += 1\n",
    "\n",
    "        # Some lists will not have a left/right counterpart and so will be dealt with below       \n",
    "        while l < len(left_list):\n",
    "            alist[a] = left_list[l]\n",
    "            l += 1\n",
    "            a += 1\n",
    "\n",
    "        while r < len(right_list):\n",
    "            alist[a] = right_list[r]\n",
    "            r += 1\n",
    "            a += 1\n",
    "        # The original list has now been sorted"
   ]
  },
  {
   "cell_type": "code",
   "execution_count": 6,
   "metadata": {},
   "outputs": [],
   "source": [
    "# https://runestone.academy/runestone/books/published/pythonds/SortSearch/TheQuickSort.html?highlight=quicksort\n",
    "\n",
    "def quickSort(alist):\n",
    "    quickSortHelper(alist,0,len(alist)-1)\n",
    "\n",
    "def quickSortHelper(alist,first,last):\n",
    "    if first<last:\n",
    "\n",
    "        splitpoint = partition(alist,first,last)\n",
    "\n",
    "        quickSortHelper(alist,first,splitpoint-1)\n",
    "        quickSortHelper(alist,splitpoint+1,last)\n",
    "\n",
    "\n",
    "def partition(alist,first,last):\n",
    "    pivotvalue = alist[first]\n",
    "\n",
    "    leftmark = first+1\n",
    "    rightmark = last\n",
    "\n",
    "    done = False\n",
    "    while not done:\n",
    "\n",
    "        while leftmark <= rightmark and alist[leftmark] <= pivotvalue:\n",
    "            leftmark = leftmark + 1\n",
    "\n",
    "        while alist[rightmark] >= pivotvalue and rightmark >= leftmark:\n",
    "            rightmark = rightmark -1\n",
    "\n",
    "        if rightmark < leftmark:\n",
    "            done = True\n",
    "        else:\n",
    "            temp = alist[leftmark]\n",
    "            alist[leftmark] = alist[rightmark]\n",
    "            alist[rightmark] = temp\n",
    "\n",
    "    temp = alist[first]\n",
    "    alist[first] = alist[rightmark]\n",
    "    alist[rightmark] = temp\n",
    "\n",
    "\n",
    "    return rightmark\n"
   ]
  },
  {
   "cell_type": "code",
   "execution_count": 7,
   "metadata": {},
   "outputs": [],
   "source": [
    "# Create an array of random integers of size n \n",
    "def random_array(n):\n",
    "\n",
    "    array = []\n",
    "    \n",
    "    for i in range(0, n):\n",
    "        array.append(random.randint(0, 100))\n",
    "    \n",
    "    return array\n"
   ]
  },
  {
   "cell_type": "code",
   "execution_count": 8,
   "metadata": {},
   "outputs": [],
   "source": [
    "# Input sizes\n",
    "n_size = [100, 250, 500, 750, 1000, 1250, 2500, 3750, 5000, 6250, 7500, 8750, 10000]"
   ]
  },
  {
   "cell_type": "code",
   "execution_count": 9,
   "metadata": {},
   "outputs": [],
   "source": [
    "def benchmarking(sorting_func):\n",
    "    \n",
    "    # Lists to contain the running times for each algorithm\n",
    "    sort_times = []\n",
    "\n",
    "    # Time test for each sorting algorithm\n",
    "    for n in n_size:\n",
    "        start_time = time.time()\n",
    "        sorting_func(random_array(n))\n",
    "        end_time = time.time()\n",
    "        time_elapsed = round((end_time - start_time), 3)\n",
    "        sort_times.append(time_elapsed)\n",
    "    \n",
    "    return sort_times"
   ]
  },
  {
   "cell_type": "code",
   "execution_count": null,
   "metadata": {},
   "outputs": [],
   "source": []
  },
  {
   "cell_type": "code",
   "execution_count": null,
   "metadata": {},
   "outputs": [],
   "source": [
    "\n",
    "    "
   ]
  },
  {
   "cell_type": "code",
   "execution_count": null,
   "metadata": {},
   "outputs": [],
   "source": []
  },
  {
   "cell_type": "code",
   "execution_count": 10,
   "metadata": {},
   "outputs": [],
   "source": [
    "def averages(sort):\n",
    "    \n",
    "    times = []\n",
    "\n",
    "    # Calculate benchmarking 10 times\n",
    "    for i in range(0, 10):\n",
    "        time = benchmarking(sort)\n",
    "        times.append(time) \n",
    "    print(type(times))\n",
    "    \n",
    "    arr_times = np.array(times)\n",
    "    \n",
    "    averages = np.mean(arr_times, axis=0)\n",
    "    \n",
    "    return averages"
   ]
  },
  {
   "cell_type": "code",
   "execution_count": 11,
   "metadata": {},
   "outputs": [
    {
     "name": "stdout",
     "output_type": "stream",
     "text": [
      "<class 'list'>\n",
      "[0.0004 0.0019 0.0038 0.0066 0.0099 0.0127 0.0261 0.0498 0.0689 0.0839\n",
      " 0.1136 0.1428 0.1793]\n"
     ]
    }
   ],
   "source": [
    "quick = averages(quickSort)\n",
    "print(quick)"
   ]
  },
  {
   "cell_type": "code",
   "execution_count": 12,
   "metadata": {},
   "outputs": [
    {
     "name": "stdout",
     "output_type": "stream",
     "text": [
      "<class 'list'>\n",
      "[9.00000e-04 6.80000e-03 2.97000e-02 7.32000e-02 1.24900e-01 1.97500e-01\n",
      " 8.46600e-01 1.83960e+00 3.24010e+00 4.94530e+00 7.15890e+00 9.65380e+00\n",
      " 1.29183e+01]\n"
     ]
    }
   ],
   "source": [
    "insertion = averages(insertionSort)\n",
    "print(insertion)"
   ]
  },
  {
   "cell_type": "code",
   "execution_count": 13,
   "metadata": {},
   "outputs": [
    {
     "name": "stdout",
     "output_type": "stream",
     "text": [
      "<class 'list'>\n",
      "[1.2000e-03 5.5000e-03 1.9400e-02 4.2400e-02 7.7000e-02 1.2120e-01\n",
      " 5.2820e-01 1.0857e+00 2.0532e+00 3.3030e+00 4.6304e+00 6.3605e+00\n",
      " 8.1097e+00]\n"
     ]
    }
   ],
   "source": [
    "selection = averages(selectionSort)\n",
    "print(selection)"
   ]
  },
  {
   "cell_type": "code",
   "execution_count": 14,
   "metadata": {},
   "outputs": [
    {
     "name": "stdout",
     "output_type": "stream",
     "text": [
      "<class 'list'>\n",
      "[0.0007 0.0027 0.0055 0.008  0.0126 0.0152 0.0325 0.0572 0.0781 0.0929\n",
      " 0.119  0.143  0.1568]\n"
     ]
    }
   ],
   "source": [
    "merge = averages(mergeSort)\n",
    "print(merge)"
   ]
  },
  {
   "cell_type": "code",
   "execution_count": 18,
   "metadata": {},
   "outputs": [],
   "source": [
    "algorithms = ['Insertion Sort', 'Selection Sort', 'Quick Sort', 'Merge Sort']\n",
    "\n",
    "df = pd.DataFrame([insertion, selection, quick, merge], columns=['100', '250', '500', '750', '1000', '1250', '2500', '3750', '5000', '6250', '7500', '8750', '10000'])"
   ]
  },
  {
   "cell_type": "code",
   "execution_count": 19,
   "metadata": {},
   "outputs": [
    {
     "data": {
      "text/html": [
       "<div>\n",
       "<style scoped>\n",
       "    .dataframe tbody tr th:only-of-type {\n",
       "        vertical-align: middle;\n",
       "    }\n",
       "\n",
       "    .dataframe tbody tr th {\n",
       "        vertical-align: top;\n",
       "    }\n",
       "\n",
       "    .dataframe thead th {\n",
       "        text-align: right;\n",
       "    }\n",
       "</style>\n",
       "<table border=\"1\" class=\"dataframe\">\n",
       "  <thead>\n",
       "    <tr style=\"text-align: right;\">\n",
       "      <th></th>\n",
       "      <th>100</th>\n",
       "      <th>250</th>\n",
       "      <th>500</th>\n",
       "      <th>750</th>\n",
       "      <th>1000</th>\n",
       "      <th>1250</th>\n",
       "      <th>2500</th>\n",
       "      <th>3750</th>\n",
       "      <th>5000</th>\n",
       "      <th>6250</th>\n",
       "      <th>7500</th>\n",
       "      <th>8750</th>\n",
       "      <th>10000</th>\n",
       "    </tr>\n",
       "  </thead>\n",
       "  <tbody>\n",
       "    <tr>\n",
       "      <td>0</td>\n",
       "      <td>0.0009</td>\n",
       "      <td>0.0068</td>\n",
       "      <td>0.0297</td>\n",
       "      <td>0.0732</td>\n",
       "      <td>0.1249</td>\n",
       "      <td>0.1975</td>\n",
       "      <td>0.8466</td>\n",
       "      <td>1.8396</td>\n",
       "      <td>3.2401</td>\n",
       "      <td>4.9453</td>\n",
       "      <td>7.1589</td>\n",
       "      <td>9.6538</td>\n",
       "      <td>12.9183</td>\n",
       "    </tr>\n",
       "    <tr>\n",
       "      <td>1</td>\n",
       "      <td>0.0012</td>\n",
       "      <td>0.0055</td>\n",
       "      <td>0.0194</td>\n",
       "      <td>0.0424</td>\n",
       "      <td>0.0770</td>\n",
       "      <td>0.1212</td>\n",
       "      <td>0.5282</td>\n",
       "      <td>1.0857</td>\n",
       "      <td>2.0532</td>\n",
       "      <td>3.3030</td>\n",
       "      <td>4.6304</td>\n",
       "      <td>6.3605</td>\n",
       "      <td>8.1097</td>\n",
       "    </tr>\n",
       "    <tr>\n",
       "      <td>2</td>\n",
       "      <td>0.0004</td>\n",
       "      <td>0.0019</td>\n",
       "      <td>0.0038</td>\n",
       "      <td>0.0066</td>\n",
       "      <td>0.0099</td>\n",
       "      <td>0.0127</td>\n",
       "      <td>0.0261</td>\n",
       "      <td>0.0498</td>\n",
       "      <td>0.0689</td>\n",
       "      <td>0.0839</td>\n",
       "      <td>0.1136</td>\n",
       "      <td>0.1428</td>\n",
       "      <td>0.1793</td>\n",
       "    </tr>\n",
       "    <tr>\n",
       "      <td>3</td>\n",
       "      <td>0.0007</td>\n",
       "      <td>0.0027</td>\n",
       "      <td>0.0055</td>\n",
       "      <td>0.0080</td>\n",
       "      <td>0.0126</td>\n",
       "      <td>0.0152</td>\n",
       "      <td>0.0325</td>\n",
       "      <td>0.0572</td>\n",
       "      <td>0.0781</td>\n",
       "      <td>0.0929</td>\n",
       "      <td>0.1190</td>\n",
       "      <td>0.1430</td>\n",
       "      <td>0.1568</td>\n",
       "    </tr>\n",
       "  </tbody>\n",
       "</table>\n",
       "</div>"
      ],
      "text/plain": [
       "      100     250     500     750    1000    1250    2500    3750    5000  \\\n",
       "0  0.0009  0.0068  0.0297  0.0732  0.1249  0.1975  0.8466  1.8396  3.2401   \n",
       "1  0.0012  0.0055  0.0194  0.0424  0.0770  0.1212  0.5282  1.0857  2.0532   \n",
       "2  0.0004  0.0019  0.0038  0.0066  0.0099  0.0127  0.0261  0.0498  0.0689   \n",
       "3  0.0007  0.0027  0.0055  0.0080  0.0126  0.0152  0.0325  0.0572  0.0781   \n",
       "\n",
       "     6250    7500    8750    10000  \n",
       "0  4.9453  7.1589  9.6538  12.9183  \n",
       "1  3.3030  4.6304  6.3605   8.1097  \n",
       "2  0.0839  0.1136  0.1428   0.1793  \n",
       "3  0.0929  0.1190  0.1430   0.1568  "
      ]
     },
     "execution_count": 19,
     "metadata": {},
     "output_type": "execute_result"
    }
   ],
   "source": [
    "df\n"
   ]
  },
  {
   "cell_type": "code",
   "execution_count": 20,
   "metadata": {},
   "outputs": [],
   "source": [
    "df.insert(0, \"Size\", algorithms)"
   ]
  },
  {
   "cell_type": "code",
   "execution_count": 21,
   "metadata": {},
   "outputs": [
    {
     "data": {
      "text/html": [
       "<div>\n",
       "<style scoped>\n",
       "    .dataframe tbody tr th:only-of-type {\n",
       "        vertical-align: middle;\n",
       "    }\n",
       "\n",
       "    .dataframe tbody tr th {\n",
       "        vertical-align: top;\n",
       "    }\n",
       "\n",
       "    .dataframe thead th {\n",
       "        text-align: right;\n",
       "    }\n",
       "</style>\n",
       "<table border=\"1\" class=\"dataframe\">\n",
       "  <thead>\n",
       "    <tr style=\"text-align: right;\">\n",
       "      <th></th>\n",
       "      <th>Size</th>\n",
       "      <th>100</th>\n",
       "      <th>250</th>\n",
       "      <th>500</th>\n",
       "      <th>750</th>\n",
       "      <th>1000</th>\n",
       "      <th>1250</th>\n",
       "      <th>2500</th>\n",
       "      <th>3750</th>\n",
       "      <th>5000</th>\n",
       "      <th>6250</th>\n",
       "      <th>7500</th>\n",
       "      <th>8750</th>\n",
       "      <th>10000</th>\n",
       "    </tr>\n",
       "  </thead>\n",
       "  <tbody>\n",
       "    <tr>\n",
       "      <td>0</td>\n",
       "      <td>Insertion Sort</td>\n",
       "      <td>0.0009</td>\n",
       "      <td>0.0068</td>\n",
       "      <td>0.0297</td>\n",
       "      <td>0.0732</td>\n",
       "      <td>0.1249</td>\n",
       "      <td>0.1975</td>\n",
       "      <td>0.8466</td>\n",
       "      <td>1.8396</td>\n",
       "      <td>3.2401</td>\n",
       "      <td>4.9453</td>\n",
       "      <td>7.1589</td>\n",
       "      <td>9.6538</td>\n",
       "      <td>12.9183</td>\n",
       "    </tr>\n",
       "    <tr>\n",
       "      <td>1</td>\n",
       "      <td>Selection Sort</td>\n",
       "      <td>0.0012</td>\n",
       "      <td>0.0055</td>\n",
       "      <td>0.0194</td>\n",
       "      <td>0.0424</td>\n",
       "      <td>0.0770</td>\n",
       "      <td>0.1212</td>\n",
       "      <td>0.5282</td>\n",
       "      <td>1.0857</td>\n",
       "      <td>2.0532</td>\n",
       "      <td>3.3030</td>\n",
       "      <td>4.6304</td>\n",
       "      <td>6.3605</td>\n",
       "      <td>8.1097</td>\n",
       "    </tr>\n",
       "    <tr>\n",
       "      <td>2</td>\n",
       "      <td>Quick Sort</td>\n",
       "      <td>0.0004</td>\n",
       "      <td>0.0019</td>\n",
       "      <td>0.0038</td>\n",
       "      <td>0.0066</td>\n",
       "      <td>0.0099</td>\n",
       "      <td>0.0127</td>\n",
       "      <td>0.0261</td>\n",
       "      <td>0.0498</td>\n",
       "      <td>0.0689</td>\n",
       "      <td>0.0839</td>\n",
       "      <td>0.1136</td>\n",
       "      <td>0.1428</td>\n",
       "      <td>0.1793</td>\n",
       "    </tr>\n",
       "    <tr>\n",
       "      <td>3</td>\n",
       "      <td>Merge Sort</td>\n",
       "      <td>0.0007</td>\n",
       "      <td>0.0027</td>\n",
       "      <td>0.0055</td>\n",
       "      <td>0.0080</td>\n",
       "      <td>0.0126</td>\n",
       "      <td>0.0152</td>\n",
       "      <td>0.0325</td>\n",
       "      <td>0.0572</td>\n",
       "      <td>0.0781</td>\n",
       "      <td>0.0929</td>\n",
       "      <td>0.1190</td>\n",
       "      <td>0.1430</td>\n",
       "      <td>0.1568</td>\n",
       "    </tr>\n",
       "  </tbody>\n",
       "</table>\n",
       "</div>"
      ],
      "text/plain": [
       "             Size     100     250     500     750    1000    1250    2500  \\\n",
       "0  Insertion Sort  0.0009  0.0068  0.0297  0.0732  0.1249  0.1975  0.8466   \n",
       "1  Selection Sort  0.0012  0.0055  0.0194  0.0424  0.0770  0.1212  0.5282   \n",
       "2      Quick Sort  0.0004  0.0019  0.0038  0.0066  0.0099  0.0127  0.0261   \n",
       "3      Merge Sort  0.0007  0.0027  0.0055  0.0080  0.0126  0.0152  0.0325   \n",
       "\n",
       "     3750    5000    6250    7500    8750    10000  \n",
       "0  1.8396  3.2401  4.9453  7.1589  9.6538  12.9183  \n",
       "1  1.0857  2.0532  3.3030  4.6304  6.3605   8.1097  \n",
       "2  0.0498  0.0689  0.0839  0.1136  0.1428   0.1793  \n",
       "3  0.0572  0.0781  0.0929  0.1190  0.1430   0.1568  "
      ]
     },
     "execution_count": 21,
     "metadata": {},
     "output_type": "execute_result"
    }
   ],
   "source": [
    "df"
   ]
  },
  {
   "cell_type": "code",
   "execution_count": null,
   "metadata": {},
   "outputs": [],
   "source": []
  }
 ],
 "metadata": {
  "kernelspec": {
   "display_name": "Python 3",
   "language": "python",
   "name": "python3"
  },
  "language_info": {
   "codemirror_mode": {
    "name": "ipython",
    "version": 3
   },
   "file_extension": ".py",
   "mimetype": "text/x-python",
   "name": "python",
   "nbconvert_exporter": "python",
   "pygments_lexer": "ipython3",
   "version": "3.7.4"
  },
  "toc": {
   "base_numbering": 1,
   "nav_menu": {},
   "number_sections": true,
   "sideBar": false,
   "skip_h1_title": true,
   "title_cell": "Table of Contents",
   "title_sidebar": "Contents",
   "toc_cell": true,
   "toc_position": {},
   "toc_section_display": true,
   "toc_window_display": false
  }
 },
 "nbformat": 4,
 "nbformat_minor": 2
}
