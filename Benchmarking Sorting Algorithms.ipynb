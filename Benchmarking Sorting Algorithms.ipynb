{
 "cells": [
  {
   "cell_type": "markdown",
   "metadata": {
    "toc": true
   },
   "source": [
    "<h1>Table of Contents<span class=\"tocSkip\"></span></h1>\n",
    "<div class=\"toc\"><ul class=\"toc-item\"></ul></div>"
   ]
  },
  {
   "cell_type": "code",
   "execution_count": 1,
   "metadata": {},
   "outputs": [],
   "source": [
    "import time\n",
    "import random\n",
    "import numpy as np\n",
    "import pandas as pd\n",
    "import matplotlib.pyplot as plt"
   ]
  },
  {
   "cell_type": "code",
   "execution_count": 2,
   "metadata": {},
   "outputs": [],
   "source": [
    "# https://runestone.academy/runestone/books/published/pythonds/SortSearch/TheSelectionSort.html\n",
    "\n",
    "def selection_sort(alist):\n",
    "    for fillslot in range(len(alist)-1,0,-1):\n",
    "        positionOfMax=0 \n",
    "        for location in range(1,fillslot+1):\n",
    "            if alist[location]>alist[positionOfMax]:\n",
    "                positionOfMax = location\n",
    "\n",
    "        alist[fillslot], alist[positionOfMax] = alist[positionOfMax], alist[fillslot]"
   ]
  },
  {
   "cell_type": "code",
   "execution_count": 3,
   "metadata": {},
   "outputs": [],
   "source": [
    "def insertion_sort(alist):\n",
    "    for index in range(1,len(alist)):\n",
    "        \n",
    "        currentvalue = alist[index]\n",
    "        position = index\n",
    "\n",
    "        while position>0 and alist[position-1]>currentvalue:\n",
    "            alist[position]=alist[position-1]\n",
    "            position = position-1\n",
    "\n",
    "        alist[position]=currentvalue"
   ]
  },
  {
   "cell_type": "code",
   "execution_count": 4,
   "metadata": {},
   "outputs": [],
   "source": [
    "# Adapted from https://runestone.academy/runestone/books/published/pythonds/SortSearch/TheMergeSort.html?highlight=merge%20sort\n",
    "# and https://www.geeksforgeeks.org/merge-sort/\n",
    "\n",
    "def merge_sort(alist):\n",
    "    # Base case - if list is 1 or less, it is sorted by default\n",
    "    if len(alist) > 1:\n",
    "\n",
    "        # Get midpoint of the list with integer division\n",
    "        midpoint = len(alist) // 2\n",
    "    \n",
    "        # Splitting the list in half using the midpoint\n",
    "        left_list = alist[:midpoint]\n",
    "        right_list = alist[midpoint:]\n",
    "\n",
    "        # Recursively split the left_list and right_list until the base case is reached\n",
    "        merge_sort(left_list)\n",
    "        merge_sort(right_list)\n",
    "        # At the end of the recursion, all lists will contain a maximum of 1 element and thus be sorted.\n",
    "\n",
    "        # Code below merges the smaller sorted lists into larger sorted lists\n",
    "        l = 0     # Index value for left_list\n",
    "        r = 0     # Index value for right_list\n",
    "        a = 0     # Index value for alist\n",
    "\n",
    "        \"\"\"Compare left and right lists, merging smaller sorted lists to become larger sorted lists, \n",
    "           eventually placing the sorted elements back into alist\"\"\"\n",
    "        while l < len(left_list) and r < len(right_list):\n",
    "            if left_list[l] <= right_list[r]: # keeps algorithm stable, maintaining order of alist \n",
    "                alist[a] = left_list[l]\n",
    "                l += 1\n",
    "            else:\n",
    "                alist[a] = right_list[r]\n",
    "                r += 1\n",
    "            a += 1\n",
    "\n",
    "        # Some lists will not have a left/right counterpart and so will be dealt with below       \n",
    "        while l < len(left_list):\n",
    "            alist[a] = left_list[l]\n",
    "            l += 1\n",
    "            a += 1\n",
    "\n",
    "        while r < len(right_list):\n",
    "            alist[a] = right_list[r]\n",
    "            r += 1\n",
    "            a += 1\n",
    "        # The original list has now been sorted"
   ]
  },
  {
   "cell_type": "code",
   "execution_count": 5,
   "metadata": {},
   "outputs": [],
   "source": [
    "# https://runestone.academy/runestone/books/published/pythonds/SortSearch/TheQuickSort.html?highlight=quicksort\n",
    "\n",
    "def quick_sort(alist):\n",
    "    quickSortHelper(alist,0,len(alist)-1)\n",
    "\n",
    "def quickSortHelper(alist,first,last):\n",
    "    if first<last:\n",
    "\n",
    "        splitpoint = partition(alist,first,last)\n",
    "\n",
    "        quickSortHelper(alist,first,splitpoint-1)\n",
    "        quickSortHelper(alist,splitpoint+1,last)\n",
    "\n",
    "\n",
    "def partition(alist,first,last):\n",
    "    pivotvalue = alist[first]\n",
    "\n",
    "    leftmark = first+1\n",
    "    rightmark = last\n",
    "\n",
    "    done = False\n",
    "    while not done:\n",
    "\n",
    "        while leftmark <= rightmark and alist[leftmark] <= pivotvalue:\n",
    "            leftmark = leftmark + 1\n",
    "\n",
    "        while alist[rightmark] >= pivotvalue and rightmark >= leftmark:\n",
    "            rightmark = rightmark -1\n",
    "\n",
    "        if rightmark < leftmark:\n",
    "            done = True\n",
    "        else:\n",
    "            temp = alist[leftmark]\n",
    "            alist[leftmark] = alist[rightmark]\n",
    "            alist[rightmark] = temp\n",
    "\n",
    "    temp = alist[first]\n",
    "    alist[first] = alist[rightmark]\n",
    "    alist[rightmark] = temp\n",
    "\n",
    "\n",
    "    return rightmark\n"
   ]
  },
  {
   "cell_type": "code",
   "execution_count": 6,
   "metadata": {},
   "outputs": [],
   "source": [
    "# https://www.w3resource.com/python-exercises/data-structures-and-algorithms/python-search-and-sorting-exercise-10.php\n",
    "def counting_sort(alist, max_val=100):\n",
    "    m = max_val + 1\n",
    "    count = [0] * m                \n",
    "    \n",
    "    for a in alist:\n",
    "    # count occurences\n",
    "        count[a] += 1             \n",
    "    i = 0\n",
    "    for a in range(m):            \n",
    "        for c in range(count[a]):  \n",
    "            alist[i] = a\n",
    "            i += 1\n",
    "    return alist"
   ]
  },
  {
   "cell_type": "code",
   "execution_count": 7,
   "metadata": {},
   "outputs": [],
   "source": [
    "# Create an array of size n consisting of random integers between the values 0-99  \n",
    "def random_array(n):\n",
    "\n",
    "    array = []\n",
    "    \n",
    "    for i in range(0, n):\n",
    "        array.append(random.randint(0, 100))\n",
    "    \n",
    "    return array"
   ]
  },
  {
   "cell_type": "code",
   "execution_count": 8,
   "metadata": {},
   "outputs": [],
   "source": [
    "# Input sizes\n",
    "n_size = [100, 250, 500, 750, 1000,s 1250, 2500, 3750, 5000, 6250, 7500, 8750, 10000]"
   ]
  },
  {
   "cell_type": "code",
   "execution_count": 9,
   "metadata": {},
   "outputs": [],
   "source": [
    "def benchmarking(sorting_func):\n",
    "    \n",
    "    # List to contain the running times for each algorithm\n",
    "    sort_times = []\n",
    "\n",
    "    # Time test for each sorting algorithm\n",
    "    for n in n_size:\n",
    "        start_time = time.time()\n",
    "        sorting_func(random_array(n))\n",
    "        end_time = time.time()\n",
    "        time_elapsed = round((end_time - start_time), 3)\n",
    "        sort_times.append(time_elapsed)\n",
    "    \n",
    "    return sort_times"
   ]
  },
  {
   "cell_type": "code",
   "execution_count": 10,
   "metadata": {},
   "outputs": [],
   "source": [
    "def average_time(sort):\n",
    "    \n",
    "    times = []\n",
    "\n",
    "    # Calculate benchmarking 10 times\n",
    "    for i in range(0, 10):\n",
    "        time = benchmarking(sort)\n",
    "        times.append(time) \n",
    "    \n",
    "    arr_times = np.array(times)\n",
    "    \n",
    "    average = np.mean(arr_times, axis=0)\n",
    "    \n",
    "    return average"
   ]
  },
  {
   "cell_type": "code",
   "execution_count": 11,
   "metadata": {},
   "outputs": [
    {
     "name": "stdout",
     "output_type": "stream",
     "text": [
      "[array([0.0021, 0.0101, 0.0396, 0.094 , 0.172 ]), array([0.0014, 0.0051, 0.0224, 0.0566, 0.1064]), array([0.002 , 0.005 , 0.01  , 0.0157, 0.0226]), array([0.0005, 0.0017, 0.0036, 0.0069, 0.0089]), array([0.    , 0.0009, 0.0019, 0.0022, 0.0031])]\n"
     ]
    }
   ],
   "source": [
    "all_algorithms = [insertion_sort, selection_sort, merge_sort, quick_sort, counting_sort]\n",
    "\n",
    "all_averages = []\n",
    "\n",
    "for a in all_algorithms:\n",
    "    result = average_time(a)\n",
    "    all_averages.append(result)\n",
    "    \n",
    "print(all_averages)"
   ]
  },
  {
   "cell_type": "code",
   "execution_count": 12,
   "metadata": {},
   "outputs": [],
   "source": [
    "algorithms = ['Insertion Sort', 'Selection Sort', 'Merge Sort', 'Quick Sort', 'Counting Sort']\n",
    "\n",
    "df = pd.DataFrame(all_averages, columns=n_size, index=algorithms)"
   ]
  },
  {
   "cell_type": "code",
   "execution_count": 13,
   "metadata": {},
   "outputs": [
    {
     "data": {
      "text/html": [
       "<div>\n",
       "<style scoped>\n",
       "    .dataframe tbody tr th:only-of-type {\n",
       "        vertical-align: middle;\n",
       "    }\n",
       "\n",
       "    .dataframe tbody tr th {\n",
       "        vertical-align: top;\n",
       "    }\n",
       "\n",
       "    .dataframe thead th {\n",
       "        text-align: right;\n",
       "    }\n",
       "</style>\n",
       "<table border=\"1\" class=\"dataframe\">\n",
       "  <thead>\n",
       "    <tr style=\"text-align: right;\">\n",
       "      <th></th>\n",
       "      <th>100</th>\n",
       "      <th>250</th>\n",
       "      <th>500</th>\n",
       "      <th>750</th>\n",
       "      <th>1000</th>\n",
       "    </tr>\n",
       "  </thead>\n",
       "  <tbody>\n",
       "    <tr>\n",
       "      <td>Insertion Sort</td>\n",
       "      <td>0.002</td>\n",
       "      <td>0.010</td>\n",
       "      <td>0.040</td>\n",
       "      <td>0.094</td>\n",
       "      <td>0.172</td>\n",
       "    </tr>\n",
       "    <tr>\n",
       "      <td>Selection Sort</td>\n",
       "      <td>0.001</td>\n",
       "      <td>0.005</td>\n",
       "      <td>0.022</td>\n",
       "      <td>0.057</td>\n",
       "      <td>0.106</td>\n",
       "    </tr>\n",
       "    <tr>\n",
       "      <td>Merge Sort</td>\n",
       "      <td>0.002</td>\n",
       "      <td>0.005</td>\n",
       "      <td>0.010</td>\n",
       "      <td>0.016</td>\n",
       "      <td>0.023</td>\n",
       "    </tr>\n",
       "    <tr>\n",
       "      <td>Quick Sort</td>\n",
       "      <td>0.000</td>\n",
       "      <td>0.002</td>\n",
       "      <td>0.004</td>\n",
       "      <td>0.007</td>\n",
       "      <td>0.009</td>\n",
       "    </tr>\n",
       "    <tr>\n",
       "      <td>Counting Sort</td>\n",
       "      <td>0.000</td>\n",
       "      <td>0.001</td>\n",
       "      <td>0.002</td>\n",
       "      <td>0.002</td>\n",
       "      <td>0.003</td>\n",
       "    </tr>\n",
       "  </tbody>\n",
       "</table>\n",
       "</div>"
      ],
      "text/plain": [
       "                 100    250    500    750    1000\n",
       "Insertion Sort  0.002  0.010  0.040  0.094  0.172\n",
       "Selection Sort  0.001  0.005  0.022  0.057  0.106\n",
       "Merge Sort      0.002  0.005  0.010  0.016  0.023\n",
       "Quick Sort      0.000  0.002  0.004  0.007  0.009\n",
       "Counting Sort   0.000  0.001  0.002  0.002  0.003"
      ]
     },
     "execution_count": 13,
     "metadata": {},
     "output_type": "execute_result"
    }
   ],
   "source": [
    "df.round(3)"
   ]
  },
  {
   "cell_type": "code",
   "execution_count": 14,
   "metadata": {},
   "outputs": [
    {
     "data": {
      "image/png": "[encoded data removed]",
      "text/plain": [
       "<Figure size 1440x720 with 1 Axes>"
      ]
     },
     "metadata": {
      "needs_background": "light"
     },
     "output_type": "display_data"
    }
   ],
   "source": [
    "# https://stackoverflow.com/a/31734795\n",
    "# https://stackoverflow.com/a/43610256\n",
    "plot = df.iloc[:].T.plot(title=\"Benchmarking Sorting Algorithms\", figsize=(20, 10), style='-o')\n",
    "plot.set(xlabel=\"Input Size\", ylabel=\"Running Time (Seconds)\")\n",
    "plt.legend(loc='center left', bbox_to_anchor=(1, 0.5))\n",
    "#plt.xticks(n_size)\n",
    "plt.show()"
   ]
  },
  {
   "cell_type": "code",
   "execution_count": null,
   "metadata": {},
   "outputs": [],
   "source": []
  }
 ],
 "metadata": {
  "kernelspec": {
   "display_name": "Python 3",
   "language": "python",
   "name": "python3"
  },
  "language_info": {
   "codemirror_mode": {
    "name": "ipython",
    "version": 3
   },
   "file_extension": ".py",
   "mimetype": "text/x-python",
   "name": "python",
   "nbconvert_exporter": "python",
   "pygments_lexer": "ipython3",
   "version": "3.7.4"
  },
  "toc": {
   "base_numbering": 1,
   "nav_menu": {},
   "number_sections": true,
   "sideBar": false,
   "skip_h1_title": true,
   "title_cell": "Table of Contents",
   "title_sidebar": "Contents",
   "toc_cell": true,
   "toc_position": {},
   "toc_section_display": true,
   "toc_window_display": false
  }
 },
 "nbformat": 4,
 "nbformat_minor": 2
}
